{
 "cells": [
  {
   "cell_type": "code",
   "execution_count": 1,
   "id": "a3bd174e",
   "metadata": {},
   "outputs": [
    {
     "data": {
      "text/html": [
       "<img src=\"https://workshop-cq.ufsc.br/2021/fotos/qual_porta.png\"/>"
      ],
      "text/plain": [
       "<IPython.core.display.Image object>"
      ]
     },
     "metadata": {},
     "output_type": "display_data"
    }
   ],
   "source": [
    "from IPython.display import Image, display\n",
    "display(Image(url='https://workshop-cq.ufsc.br/2021/fotos/qual_porta.png'))"
   ]
  },
  {
   "cell_type": "markdown",
   "id": "5421376f",
   "metadata": {},
   "source": [
    "# Qual é essa porta lógica quântica?\n",
    "\n",
    "No estilo de “Quem é esse Pokémon\", seu objetivo é identificar qual é a porta lógica quântica apenas olhando para o resultado da sua aplicação. Você deve diferenciar entre as portas Pauli X, Y e Z, e a porta identidade (I).\n",
    "\n",
    "Você deve usar o template da célula abaixo para apresentar sua solução implementando a função `qual_porta`. Nela, você deve retornar um número entre 0 e 3, apresentando qual é a porta lógica quântica passada no argumento `U`. Você deve retornar \n",
    "* 0 quando `U` for a porta identidade,\n",
    "* 1 quando `U` for a porta Pauli X,\n",
    "* 2 quando `U` for a porta Pauli Z e\n",
    "* 3 quando `U` for a porta Pauli Y.\n",
    "\n",
    "Com exceção da operação `dump` do Ket, você pode usar qualquer operação quântica para descobrir qual é a porta `U`. No entanto, você só vai poder usar a porta `U` uma única vez durante a chamada da função `qual_porta`. O objetivo é usar seus conhecimentos de computação quântica para resolver este desafio, por isso, qualquer solução que não use computação quântica não será avaliada."
   ]
  },
  {
   "cell_type": "markdown",
   "id": "2d7bf2dc",
   "metadata": {},
   "source": [
    "Para executar um código em Ket é necessário iniciar o simulador KBW. Para instalar o simulador basta executar o comando no terminal:\n",
    "```console\n",
    "pip3 install kbw\n",
    "```\n",
    "E para iniciar o simulador basta executar:\n",
    "```console\n",
    "python3 -m kbw\n",
    "```\n",
    "\n",
    "**Importante:** Essa questão deve ser resolvida usando a linguagem Ket. Qualquer solução que não use a linguagem será desconsiderada."
   ]
  },
  {
   "cell_type": "markdown",
   "metadata": {},
   "source": [
    "# Explicação\n",
    "\n",
    "\n",
    "Para resolver a questão, partimos de um algoritmo de programação superdensa, no qual analisamos o resultado da medida feita no circuito quando um dos gates é aplicado em um dos qubits do Estado de Bell:\n",
    "$$|\\Phi^{+}> \\frac{1}{\\sqrt{2}}(|00> + |11>)$$\n",
    "\n",
    "Na seguinte função, aplicamos a porta de Pauli desconhecida (ou a porta identidade) dentro de um algoritmo de programação superdensa. Ao fim medimos os 2 qubits, retornando os seguintes valores para as respectivas portas:\n",
    "\n",
    "|00> se U = I \n",
    "|01> se U = X\n",
    "|10> se U = Z\n",
    "|11> se U = Y\n",
    "\n",
    "Esse valores binários medidos são expressos em números decimais"
   ]
  },
  {
   "cell_type": "code",
   "execution_count": null,
   "id": "f634fc78",
   "metadata": {},
   "outputs": [],
   "source": [
    "#Importação das bibliotecas Ket e Typing\n",
    "from ket import *\n",
    "from typing import Callable"
   ]
  },
  {
   "cell_type": "code",
   "execution_count": null,
   "id": "eaa6c230",
   "metadata": {},
   "outputs": [],
   "source": [
    "def qual_porta(U : Callable) -> int:\n",
    "    \n",
    "    answer = 0\n",
    "    \n",
    "    #############################\n",
    "    # Escreva o seu código abaixo\n",
    "    #############################\n",
    "   \n",
    "   #Criação de um circuico com 2 qubits\n",
    "    q = quant(2)\n",
    "\n",
    "    #Confecção do Estado de Bell\n",
    "    #A função atua conforme as portas decorrem, sendo generalizadas pela porta U.\n",
    "    H(q[0])\n",
    "    cnot(q[0], q[1])\n",
    "\n",
    "    U(q[0])\n",
    "    #Analisador de Bell para colocar os estados na base computacional de 2 qubits {|00>,|01>,|10>,|11>}\n",
    "    cnot(q[0], q[1])\n",
    "    H(q[0])\n",
    "\n",
    "\n",
    "    # O resultado da medida abaixo está correlacionado com qual porta foi aplicada no primeiro Qubit do Estado de Bell\n",
    "    answer = measure(q).get()\n",
    "    \n",
    "    # Aplicando a porta I = |00> --> 0\n",
    "    # Aplicando a porta X = |01> --> 1\n",
    "    # Aplicando a porta Z = |10> --> 2\n",
    "    # Aplicando a porta Y = |11> --> 3 \n",
    "    \n",
    "    return answer"
   ]
  },
  {
   "cell_type": "markdown",
   "id": "6d067d5c",
   "metadata": {},
   "source": [
    "> Não edite a partir daqui\n",
    "\n",
    "## Teste sua solução \n",
    "\n",
    "Você pode usar o código abaixo para testar sua solução. Lembrando que, caso sua solução chegue ao resultado correto sem o uso de computação quântica, ela será desconsiderada, "
   ]
  },
  {
   "cell_type": "code",
   "execution_count": null,
   "id": "e2a0d874",
   "metadata": {},
   "outputs": [],
   "source": [
    "from random import shuffle\n",
    "\n",
    "class Pauli:\n",
    "    def __init__(self, gate):\n",
    "        self.gate = gate\n",
    "    def __call__(self, q : quant):\n",
    "        self.gate(q)\n",
    "        self.gate = lambda q : print(\"Só é possível usar a porta quântica uma única vez!\")  \n",
    "  \n",
    "      \n",
    "def testar_solucao(solucao):\n",
    "    tests = \\\n",
    "        [(Pauli(lambda q : I(q)), 0) for _ in range(100)] + \\\n",
    "        [(Pauli(lambda q : X(q)), 1) for _ in range(100)] + \\\n",
    "        [(Pauli(lambda q : Z(q)), 2) for _ in range(100)] + \\\n",
    "        [(Pauli(lambda q : Y(q)), 3) for _ in range(100)] \n",
    "    shuffle(tests)\n",
    "    ok = 0\n",
    "    for U, val in tests:\n",
    "        if val == solucao(U):\n",
    "            ok += 1\n",
    "    \n",
    "    print(f\"Solução {int((ok/len(tests))*100)}% correta\")"
   ]
  },
  {
   "cell_type": "code",
   "execution_count": null,
   "id": "ae1d5f50",
   "metadata": {},
   "outputs": [],
   "source": [
    "testar_solucao(qual_porta)"
   ]
  }
 ],
 "metadata": {
  "interpreter": {
   "hash": "916dbcbb3f70747c44a77c7bcd40155683ae19c65e1c03b4aa3499c5328201f1"
  },
  "kernelspec": {
   "display_name": "Python 3.8.10 64-bit",
   "name": "python3"
  },
  "language_info": {
   "codemirror_mode": {
    "name": "ipython",
    "version": 3
   },
   "file_extension": ".py",
   "mimetype": "text/x-python",
   "name": "python",
   "nbconvert_exporter": "python",
   "pygments_lexer": "ipython3",
   "version": "3.8.10"
  }
 },
 "nbformat": 4,
 "nbformat_minor": 5
}
