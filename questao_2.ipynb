{
 "cells": [
  {
   "cell_type": "code",
   "execution_count": 1,
   "id": "dca6a04c",
   "metadata": {},
   "outputs": [],
   "source": [
    "from qiskit import *"
   ]
  },
  {
   "cell_type": "markdown",
   "id": "70011e1b",
   "metadata": {},
   "source": [
    "# Qual é essa porta lógica quântica II - o Retorno\n",
    "\n",
    "Você receberá uma operação que implementa uma transformação unitária em um único qubit: ela poderá ser ou a porta Y (com a possibilidade de uma fase global extra de -1) ou a sequência de portas Pauli Z e Pauli X (com a porta Z sendo aplicada primeiro e a X depois; com a possibilidade de uma fase global extra de -1).\n",
    "\n",
    "Seu objetivo é identificar qual das operações foi usada apenas olhando para o resultado de sua aplicação.\n",
    "\n",
    "Você deve usar o template da célula abaixo para apresentar sua solução implementando a função `qual_porta`. Nela, você deve retornar um número entre 0 e 3, apresentando qual é a porta lógica quântica passada no argumento `U`. Você deve retornar \n",
    "\n",
    "* 0 quando `U` for a porta Y,\n",
    "* 1 quando `U` for a porta -XZ,\n",
    "* 2 quando `U` for a porta -Y e\n",
    "* 3 quando `U` for a porta XZ.\n",
    "\n",
    "Você pode usar qualquer operação quântica para descobrir qual é a porta. O objetivo é usar seus conhecimentos de computação quântica para resolver este desafio, por isso, qualquer solução que não use computação quântica não será avaliada.\n",
    "\n",
    "\n",
    "**Importante:** Essa questão deve ser resolvida usando o Qiskit. Qualquer solução que não use a ferramenta será desconsiderada."
   ]
  },
  {
   "cell_type": "code",
   "execution_count": 2,
   "id": "e4d93ab6",
   "metadata": {},
   "outputs": [],
   "source": [
    "def qual_porta(U : QuantumCircuit) -> int:\n",
    "    \n",
    "    answer = 0\n",
    "    \n",
    "    #############################\n",
    "    # Escreva o seu código abaixo\n",
    "    #############################\n",
    "    \n",
    "    #Rodar o circuito em um simulador\n",
    "    \n",
    "    backend = Aer.get_backend('statevector_simulator')  \n",
    "    \n",
    "    job_U = execute(U, backend) \n",
    "    resultado_U = job_U.result() \n",
    "    estado_U = resultado_U.get_statevector(U) \n",
    "    #Obter o estado em formato de array\n",
    "    \n",
    "    ###############\n",
    "    #Criar lista com 4 circuitos quânticos\n",
    "    qcs = []\n",
    "    for _ in range(4):\n",
    "        qcs.append(QuantumCircuit(1))\n",
    "    ################\n",
    "\n",
    "    #Cada circuito quântico recebe um conjunto de portas a serem aplicadas\n",
    "    \n",
    "    ## Y\n",
    "    qcs[0].y(0)\n",
    "\n",
    "    ## mXZ\n",
    "    qcs[1].x(0)\n",
    "    qcs[1].z(0)\n",
    "\n",
    "    ## mY\n",
    "    qcs[2].x(0)\n",
    "    qcs[2].y(0)\n",
    "    qcs[2].x(0)\n",
    "\n",
    "    ## XZ\n",
    "    qcs[3].z(0)\n",
    "    qcs[3].x(0)\n",
    "    \n",
    "    ################\n",
    "    #Rodar cada circuito em um simulador    \n",
    "    estados = []\n",
    "    for i in range(4):\n",
    "        job_i = execute(qcs[i], backend)\n",
    "        resultado_i = job_i.result()\n",
    "        estado_i = resultado_i.get_statevector(qcs[i])\n",
    "        estados.append(estado_i) # Adiciona os estados em uma lista\n",
    "        \n",
    "    ################\n",
    "    #Compara o array do estado U com o array dos outros estados\n",
    "    for i in range(4):\n",
    "        if all(estado_U == estados[i]):\n",
    "            answer = i\n",
    "            \n",
    "    #Quando o estado do circuito que o gate desconhecido U atua coincide com um dos estados\n",
    "    #dos circuitos da lista 'qcs' encontramos assim o gate (ou gates) representados por U\n",
    "    \n",
    "    return answer"
   ]
  },
  {
   "cell_type": "markdown",
   "id": "170ddb8c",
   "metadata": {},
   "source": [
    "> Não edite a partir daqui\n",
    "\n",
    "## Teste sua solução \n",
    "\n",
    "Você pode usar o código abaixo para testar sua solução. Lembrando que, caso sua solução chegue ao resultado correto sem o uso de computação quântica, ela será desconsiderada, "
   ]
  },
  {
   "cell_type": "code",
   "execution_count": 3,
   "id": "5d809135",
   "metadata": {},
   "outputs": [],
   "source": [
    "from random import shuffle\n",
    "\n",
    "class Unitary:\n",
    "    def __init__(self, num):\n",
    "        self.qc = QuantumCircuit(1)\n",
    "        if num == 0:\n",
    "            self.Y()\n",
    "        elif num == 1:\n",
    "            self.mZX()\n",
    "        elif num == 2:\n",
    "            self.mY()\n",
    "        elif num == 3:\n",
    "            self.ZX()\n",
    "    \n",
    "    def Y(self):\n",
    "        self.qc.y(0)\n",
    "\n",
    "    def ZX(self):\n",
    "        self.qc.z(0)\n",
    "        self.qc.x(0)\n",
    "\n",
    "    def mY(self):\n",
    "        self.qc.z(0)\n",
    "        self.qc.x(0)\n",
    "        self.qc.y(0)\n",
    "        self.qc.z(0)\n",
    "        self.qc.x(0)\n",
    "\n",
    "    def mZX(self):\n",
    "        self.qc.x(0)\n",
    "        self.qc.z(0)\n",
    " \n",
    "     \n",
    "def testar_solucao():\n",
    "    tests = \\\n",
    "        [(Unitary(0), 0) for _ in range(10)] + \\\n",
    "        [(Unitary(1), 1) for _ in range(10)] + \\\n",
    "        [(Unitary(2), 2) for _ in range(10)] + \\\n",
    "        [(Unitary(3), 3) for _ in range(10)] \n",
    "    shuffle(tests)\n",
    "    ok = 0\n",
    "    for U, val in tests:\n",
    "        solucao = qual_porta(U.qc)\n",
    "        if val == solucao:\n",
    "            ok += 1\n",
    "    \n",
    "    print(f\"Solução {int((ok/len(tests))*100)}% correta\")"
   ]
  },
  {
   "cell_type": "code",
   "execution_count": 4,
   "id": "201a50cf",
   "metadata": {},
   "outputs": [
    {
     "name": "stdout",
     "output_type": "stream",
     "text": [
      "Solução 100% correta\n"
     ]
    }
   ],
   "source": [
    "testar_solucao()"
   ]
  },
  {
   "cell_type": "code",
   "execution_count": null,
   "id": "28cb24b7",
   "metadata": {},
   "outputs": [],
   "source": []
  }
 ],
 "metadata": {
  "interpreter": {
   "hash": "2bea77b57edb05fec586817dbaa523eb581605156a3265bf3b292afb54c9c986"
  },
  "kernelspec": {
   "display_name": "Python 3",
   "language": "python",
   "name": "python3"
  },
  "language_info": {
   "codemirror_mode": {
    "name": "ipython",
    "version": 3
   },
   "file_extension": ".py",
   "mimetype": "text/x-python",
   "name": "python",
   "nbconvert_exporter": "python",
   "pygments_lexer": "ipython3",
   "version": "3.8.8"
  }
 },
 "nbformat": 4,
 "nbformat_minor": 5
}
